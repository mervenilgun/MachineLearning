{
 "cells": [
  {
   "cell_type": "code",
   "execution_count": 1,
   "id": "8caeb845",
   "metadata": {},
   "outputs": [
    {
     "name": "stdout",
     "output_type": "stream",
     "text": [
      "39\n",
      "41\n"
     ]
    }
   ],
   "source": [
    "def topla (sayi1,sayi2=7):\n",
    "    print(sayi1+sayi2)\n",
    "topla(sayi1=34,sayi2=5)\n",
    "topla(sayi1=34)\n"
   ]
  },
  {
   "cell_type": "code",
   "execution_count": 2,
   "id": "b92099a1",
   "metadata": {},
   "outputs": [
    {
     "name": "stdout",
     "output_type": "stream",
     "text": [
      "39\n",
      "39\n"
     ]
    }
   ],
   "source": [
    "def topla (sayi1,sayi2):\n",
    "    print(sayi1+sayi2)\n",
    "topla(sayi1=34,sayi2=5)\n",
    "topla(sayi2=34,sayi1=5)"
   ]
  },
  {
   "cell_type": "code",
   "execution_count": 8,
   "id": "2607981d",
   "metadata": {},
   "outputs": [
    {
     "name": "stdout",
     "output_type": "stream",
     "text": [
      "<class 'tuple'>\n",
      "83\n"
     ]
    }
   ],
   "source": [
    "def topla(*sayilar):\n",
    "    toplam=0\n",
    "    for i in sayilar:\n",
    "        toplam=toplam+i\n",
    "    return toplam\n",
    "toplam= topla(5,6,3,21,48)\n",
    "print(toplam)"
   ]
  },
  {
   "cell_type": "code",
   "execution_count": null,
   "id": "92b79617",
   "metadata": {},
   "outputs": [],
   "source": [
    "* hem bir değer hemde bir nesne return ile döndürülebilir."
   ]
  },
  {
   "cell_type": "code",
   "execution_count": 11,
   "id": "acc5d697",
   "metadata": {},
   "outputs": [
    {
     "name": "stdout",
     "output_type": "stream",
     "text": [
      "Ana fonksiyon gövdesindesiniz\n",
      "Yavru fonksiyon gövdesindesiniz\n"
     ]
    }
   ],
   "source": [
    "def fonkAna():\n",
    "    print(\"Ana fonksiyon gövdesindesiniz\")\n",
    "    def fonkYAvru():\n",
    "        print(\"Yavru fonksiyon gövdesindesiniz\")\n",
    "    fonkYAvru()\n",
    "fonkAna()"
   ]
  },
  {
   "cell_type": "code",
   "execution_count": 10,
   "id": "3d3235ce",
   "metadata": {},
   "outputs": [
    {
     "name": "stdout",
     "output_type": "stream",
     "text": [
      "Ana fonksiyon gövdesindesiniz\n",
      "Yavru fonk gövdesindesiniz\n"
     ]
    },
    {
     "ename": "NameError",
     "evalue": "name 'fonkYAvru' is not defined",
     "output_type": "error",
     "traceback": [
      "\u001b[1;31m---------------------------------------------------------------------------\u001b[0m",
      "\u001b[1;31mNameError\u001b[0m                                 Traceback (most recent call last)",
      "Cell \u001b[1;32mIn[10], line 7\u001b[0m\n\u001b[0;32m      5\u001b[0m     fonkYAvru()\n\u001b[0;32m      6\u001b[0m fonkAna()\n\u001b[1;32m----> 7\u001b[0m fonkYAvru()\n",
      "\u001b[1;31mNameError\u001b[0m: name 'fonkYAvru' is not defined"
     ]
    }
   ],
   "source": [
    "def fonkAna():\n",
    "    print(\"Ana fonksiyon gövdesindesiniz\")\n",
    "    def fonkYAvru():\n",
    "        print(\"Yavru fonk gövdesindesiniz\")\n",
    "    fonkYAvru()\n",
    "fonkAna()\n",
    "fonkYAvru()\n",
    "\n",
    "# yavru fonksiyonlar dışarıdan çağrılamaz. "
   ]
  },
  {
   "cell_type": "code",
   "execution_count": 12,
   "id": "19b354d9",
   "metadata": {},
   "outputs": [
    {
     "name": "stdout",
     "output_type": "stream",
     "text": [
      "17\n"
     ]
    }
   ],
   "source": [
    "topla = lambda sayi1,sayi2:sayi1+sayi2\n",
    "print(topla(5,12))"
   ]
  },
  {
   "cell_type": "code",
   "execution_count": 5,
   "id": "7d9fc159",
   "metadata": {},
   "outputs": [
    {
     "name": "stdout",
     "output_type": "stream",
     "text": [
      "5 2\n"
     ]
    }
   ],
   "source": [
    "def HarfBul(kelime):\n",
    "    buyukharf= 0\n",
    "    kucukharf=0\n",
    "    for i in kelime:\n",
    "        if i.isupper():\n",
    "            buyukharf+=1\n",
    "        if i.islower():\n",
    "            kucukharf+=1\n",
    "    print(kucukharf,buyukharf)\n",
    "    \n",
    "kelime = \"SukriyE\"\n",
    "HarfBul(kelime)"
   ]
  },
  {
   "cell_type": "code",
   "execution_count": 8,
   "id": "f948f05c",
   "metadata": {},
   "outputs": [
    {
     "name": "stdout",
     "output_type": "stream",
     "text": [
      "(10, 6)\n",
      "<class 'tuple'>\n"
     ]
    }
   ],
   "source": [
    "def ToplamFark(sayi1,sayi2):\n",
    "    toplam = sayi1+sayi2\n",
    "    fark = sayi1-sayi2\n",
    "    return toplam,fark\n",
    "\n",
    "sonuc = ToplamFark(8,2)\n",
    "print(sonuc)\n",
    "\n",
    "# bu fonksiyonun döndürdüğü ilk değerin toplam mı fark mı olduğunu dökümantasyondan anlayabiliriz."
   ]
  },
  {
   "cell_type": "code",
   "execution_count": 9,
   "id": "9e4d1369",
   "metadata": {},
   "outputs": [
    {
     "name": "stdout",
     "output_type": "stream",
     "text": [
      "<class 'dict'>\n"
     ]
    }
   ],
   "source": [
    "sozluk = {'Ali':123, 'Veli':345, 'Selami':34, 'Ayşe':65, 'Fatma':79}\n",
    "print(type(sozluk))"
   ]
  },
  {
   "cell_type": "code",
   "execution_count": 10,
   "id": "1175b759",
   "metadata": {},
   "outputs": [
    {
     "name": "stdout",
     "output_type": "stream",
     "text": [
      "{'Ali': [25, 45, 89], 'Veli': ('a', 'b'), 'Selami': 34, 'Ayşe': 65, 'Fatma': 79}\n"
     ]
    }
   ],
   "source": [
    "sozluk = {'Ali':[25,45,89], 'Veli':('a','b'), 'Selami':34, 'Ayşe':65, 'Fatma':79}\n",
    "print(sozluk)"
   ]
  },
  {
   "cell_type": "code",
   "execution_count": 12,
   "id": "c37e3fcf",
   "metadata": {},
   "outputs": [
    {
     "name": "stdout",
     "output_type": "stream",
     "text": [
      "[25, 45, 89]\n",
      "34\n"
     ]
    }
   ],
   "source": [
    "sozluk = {'Ali':[25,45,89], 'Veli':('a','b'), 'Selami':34, 'Ayşe':65, 'Fatma':79}\n",
    "print(sozluk['Ali'])\n",
    "print(sozluk['Selami'])"
   ]
  },
  {
   "cell_type": "code",
   "execution_count": 14,
   "id": "3bb3aca5",
   "metadata": {},
   "outputs": [
    {
     "name": "stdout",
     "output_type": "stream",
     "text": [
      "{'name': 'John', 'age': 36, 'country': 'Norway'}\n",
      "3\n"
     ]
    }
   ],
   "source": [
    "thisdict = dict(name= \"John\", age=36, country=\"Norway\")\n",
    "print(thisdict)\n",
    "print(len(thisdict))"
   ]
  },
  {
   "cell_type": "code",
   "execution_count": 26,
   "id": "5f420a5e",
   "metadata": {},
   "outputs": [
    {
     "name": "stdout",
     "output_type": "stream",
     "text": [
      "{'ad': 'Ali', 'yas': 40, 'memleket': 'konya'}\n",
      "{'ad': 'Ali', 'yas': 45, 'memleket': 'konya'}\n",
      "{'ad': 'Ali', 'yas': 45, 'memleket': 'konya', 'adres': 'nişantaşı'}\n",
      "{'ad': 'Ali', 'memleket': 'konya', 'adres': 'nişantaşı'}\n",
      "{'ad': 'Ali', 'memleket': 'konya'}\n",
      "{'ad': 'Ali'}\n"
     ]
    }
   ],
   "source": [
    "kisi_bilgileri= {'ad':'Ali', 'yas':40, 'memleket': 'konya'}\n",
    "print(kisi_bilgileri)\n",
    "\n",
    "kisi_bilgileri['yas'] = 45\n",
    "print(kisi_bilgileri)\n",
    "\n",
    "kisi_bilgileri['adres'] = 'nişantaşı'\n",
    "print(kisi_bilgileri)\n",
    "\n",
    "kisi_bilgileri.pop('yas')\n",
    "print(kisi_bilgileri)\n",
    "\n",
    "kisi_bilgileri.popitem()\n",
    "print(kisi_bilgileri)\n",
    "kisi_bilgileri.popitem()\n",
    "print(kisi_bilgileri)\n"
   ]
  },
  {
   "cell_type": "code",
   "execution_count": 39,
   "id": "e861d291",
   "metadata": {},
   "outputs": [
    {
     "name": "stdout",
     "output_type": "stream",
     "text": [
      "İstanbul\n",
      "Doktor\n",
      "{1: {'Memleket': 'İstanbul', 'Meslek': 'Öğretmen', 'Yaş': 34}, 2: {'Memleket': 'Adana', 'Meslek': 'Mühendis', 'Yaş': 40}, 3: {'Memleket': 'Hatay', 'Meslek': 'Doktor', 'Yaş': 7}}\n"
     ]
    }
   ],
   "source": [
    "kisiler = {1 : {\"Memleket\":\"İstanbul\",\n",
    "                \"Meslek\":\"Öğretmen\",\n",
    "                \"Yaş\":34},\n",
    "           2 : {\"Memleket\":\"Adana\",\n",
    "                \"Meslek\":\"Mühendis\",\n",
    "                \"Yaş\":40},\n",
    "           3 : {\"Memleket\":\"Hatay\",\n",
    "                \"Meslek\":\"Doktor\",\n",
    "                \"Yaş\":34}}\n",
    "\n",
    "print(kisiler[1][\"Memleket\"])\n",
    "print(kisiler[3][\"Meslek\"])\n",
    "kisiler[3][\"Yaş\"] = 7\n",
    "print(kisiler)"
   ]
  },
  {
   "cell_type": "code",
   "execution_count": 45,
   "id": "7704a9fb",
   "metadata": {},
   "outputs": [
    {
     "name": "stdout",
     "output_type": "stream",
     "text": [
      "1\n",
      "2\n",
      "3\n",
      "4\n",
      "5\n",
      "Ali\n",
      "Veli\n",
      "Selami\n",
      "Ayşe\n",
      "Fatma\n",
      "(1, 'Ali')\n",
      "(2, 'Veli')\n",
      "(3, 'Selami')\n",
      "(4, 'Ayşe')\n",
      "(5, 'Fatma')\n",
      "Ali\n",
      "Veli\n",
      "Selami\n",
      "Ayşe\n",
      "Fatma\n",
      "1 Ali\n",
      "2 Veli\n",
      "3 Selami\n",
      "4 Ayşe\n",
      "5 Fatma\n"
     ]
    }
   ],
   "source": [
    "sozluk = {1:\"Ali\",2:\"Veli\",3:\"Selami\",4:\"Ayşe\",5:\"Fatma\"}\n",
    "for i in sozluk.keys():\n",
    "    print(i)\n",
    "    \n",
    "for i in sozluk.values():\n",
    "    print(i)\n",
    "    \n",
    "for i in sozluk.items():\n",
    "    print(i)\n",
    "    \n",
    "for i in sozluk:\n",
    "    print(sozluk[i])\n",
    "for i,j in sozluk.items():\n",
    "    print(i,j)"
   ]
  },
  {
   "cell_type": "code",
   "execution_count": 48,
   "id": "2196d14b",
   "metadata": {},
   "outputs": [
    {
     "name": "stdout",
     "output_type": "stream",
     "text": [
      "Benim adım  Boncuk ve ben 5 yaşındayım.\n"
     ]
    }
   ],
   "source": [
    "class Animal:\n",
    "    def __init__(self,name,age):\n",
    "        self.name=name\n",
    "        self.age=age\n",
    "    def speak(self):\n",
    "        print(\"Benim adım \", self.name, \"ve ben\", self.age, \"yaşındayım.\")\n",
    "\n",
    "class Dog(Animal):\n",
    "    def __init__(self,name,age):\n",
    "        self.name=name\n",
    "        self.age=age\n",
    "        self.type= \"dog\"\n",
    "tim = Dog(\"Boncuk\", 5)\n",
    "tim.speak()"
   ]
  },
  {
   "cell_type": "code",
   "execution_count": 62,
   "id": "d55df06f",
   "metadata": {},
   "outputs": [
    {
     "name": "stdout",
     "output_type": "stream",
     "text": [
      "bir sayı gir: 5\n",
      "bir sayı daha gir: 0\n",
      "Sıfıra bölme hatası\n",
      "bir sayı gir: 5\n",
      "bir sayı daha gir: 7\n",
      "Sonuç :  0.7142857142857143\n",
      "istisna oluşmadı else çalıştı\n",
      "işlem tamamlandı\n",
      "işlem tamamlandı\n"
     ]
    }
   ],
   "source": [
    "def dividenumbers(num1,num2):\n",
    "    try:\n",
    "        result = num1/num2\n",
    "        print(\"Sonuç : \", result)\n",
    "    except ZeroDivisionError:\n",
    "        print(\"Sıfıra bölme hatası\")\n",
    "        sayigirisi()\n",
    "    except TypeError:\n",
    "        print(\"Tip hatası\")\n",
    "    except Exception as e:\n",
    "        print(\"bir hata oluştu\", str(e))\n",
    "    else:\n",
    "        print(\"istisna oluşmadı else çalıştı\")\n",
    "    finally:\n",
    "        print(\"işlem tamamlandı\")\n",
    "def sayigirisi():\n",
    "\n",
    "    try:\n",
    "        num1 = int(input(\"bir sayı gir: \"))\n",
    "        num2 = int(input(\"bir sayı daha gir: \"))\n",
    "        dividenumbers(num1,num2)\n",
    "    except ValueError:\n",
    "        print(\"geçersiz sayı girişi\")\n",
    "        \n",
    "sayigirisi()"
   ]
  },
  {
   "cell_type": "code",
   "execution_count": null,
   "id": "21aeabd8",
   "metadata": {},
   "outputs": [],
   "source": []
  }
 ],
 "metadata": {
  "kernelspec": {
   "display_name": "Python 3 (ipykernel)",
   "language": "python",
   "name": "python3"
  },
  "language_info": {
   "codemirror_mode": {
    "name": "ipython",
    "version": 3
   },
   "file_extension": ".py",
   "mimetype": "text/x-python",
   "name": "python",
   "nbconvert_exporter": "python",
   "pygments_lexer": "ipython3",
   "version": "3.11.5"
  }
 },
 "nbformat": 4,
 "nbformat_minor": 5
}
